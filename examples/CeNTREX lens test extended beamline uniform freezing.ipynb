{
 "cells": [
  {
   "cell_type": "code",
   "execution_count": 1,
   "id": "575c06a7",
   "metadata": {},
   "outputs": [],
   "source": [
    "import pickle\n",
    "import copy\n",
    "\n",
    "import matplotlib.pyplot as plt\n",
    "from matplotlib import animation\n",
    "import numpy as np\n",
    "import numpy.typing as npt\n",
    "from rich.progress import track\n",
    "from rich import progress, console\n",
    "from scipy import constants, interpolate\n",
    "import IPython\n",
    "\n",
    "from centrex_trajectories import (\n",
    "    Coordinates,\n",
    "    Gravity,\n",
    "    PropagationType,\n",
    "    Velocities,\n",
    "    propagate_trajectories,\n",
    "    PropagationOptions,\n",
    ")\n",
    "from centrex_trajectories.particles import TlF\n",
    "from centrex_trajectories.beamline_objects import (\n",
    "    CircularAperture,\n",
    "    ElectrostaticQuadrupoleLens,\n",
    "    RectangularAperture,\n",
    "    Section,\n",
    "    Bore,\n",
    ")\n",
    "from centrex_trajectories.visualization import plot_beamline\n",
    "from centrex_tlf import states, hamiltonian\n",
    "from centrex_trajectories.utils import fit_stark_potential\n",
    "from eigenshuffle import eigenshuffle_eigh\n"
   ]
  },
  {
   "cell_type": "code",
   "execution_count": 2,
   "id": "a1877671",
   "metadata": {},
   "outputs": [],
   "source": [
    "plt.rcParams.update({\"font.size\": 14})\n"
   ]
  },
  {
   "cell_type": "code",
   "execution_count": 3,
   "id": "1d6798da",
   "metadata": {},
   "outputs": [],
   "source": [
    "class TaskSpeed(progress.ProgressColumn):\n",
    "    def render(self, task):\n",
    "        if task.speed is None:\n",
    "            return \"\"\n",
    "        elif task.speed >= 0.1:\n",
    "            return f\"{(task.speed or 0):.1f}/s\"\n",
    "        else:\n",
    "            return f\"{(1 / task.speed or 0):.1f} s/i\"\n"
   ]
  },
  {
   "cell_type": "markdown",
   "id": "1780e198",
   "metadata": {},
   "source": [
    "# Setup\n",
    "## Generate Stark Potentials"
   ]
  },
  {
   "cell_type": "code",
   "execution_count": 4,
   "id": "c93cf9e5",
   "metadata": {},
   "outputs": [],
   "source": [
    "# generate states up to J=6\n",
    "QN = states.generate_uncoupled_states_ground(Js=np.arange(7))\n",
    "\n",
    "# generate the X hamiltonian terms\n",
    "H = hamiltonian.generate_uncoupled_hamiltonian_X(QN)\n",
    "\n",
    "# create a function outputting the hamiltonian as a function of E and B\n",
    "Hfunc = hamiltonian.generate_uncoupled_hamiltonian_X_function(H)\n",
    "\n",
    "# V/cm\n",
    "Ez = np.linspace(0, 50e3, 2_001)\n",
    "\n",
    "# generate the Hamiltonian for (almost) zero field, add a small field to make states\n",
    "# non-degenerate\n",
    "Hi = Hfunc(E=[0, 0, 1e-3], B=[0, 0, 1e-3])\n",
    "E, V = np.linalg.eigh(Hi)\n",
    "\n",
    "# run eigenshuffle to track the states\n",
    "Ez = np.append(np.linspace(0, 1_000, 501), np.linspace(2_000, 50_000, 51))\n",
    "hamiltonians = np.array([Hfunc(E=[0, 0, Ei], B=[0, 0, 1e-3]) for Ei in Ez])\n",
    "es, vs = eigenshuffle_eigh(hamiltonians)\n",
    "\n",
    "# get the true superposition-states of the system\n",
    "QN_states = hamiltonian.matrix_to_states(vs[0], QN)\n"
   ]
  },
  {
   "cell_type": "code",
   "execution_count": 5,
   "id": "2bbcf90c",
   "metadata": {},
   "outputs": [],
   "source": [
    "indices_J2 = [idx for idx, s in enumerate(QN_states) if s.largest.J == 2]\n",
    "\n",
    "indices_J2_F3 = (\n",
    "    indices_J2[0]\n",
    "    + np.where(\n",
    "        [\n",
    "            qn.largest.F == 3\n",
    "            for qn in [\n",
    "                qn.remove_small_components().transform_to_coupled()\n",
    "                for qn in np.array(QN_states)[indices_J2]\n",
    "            ]\n",
    "        ]\n",
    "    )[0]\n",
    ")\n",
    "indices_J2_other = [idx for idx in indices_J2 if idx not in indices_J2_F3]\n",
    "\n",
    "indices_J2_mF0 = (\n",
    "    indices_J2[0]\n",
    "    + np.where(\n",
    "        [\n",
    "            qn.largest.mF == 0 and qn.largest.F == 3\n",
    "            for qn in [\n",
    "                qn.remove_small_components().transform_to_coupled()\n",
    "                for qn in np.array(QN_states)[indices_J2]\n",
    "            ]\n",
    "        ]\n",
    "    )[0]\n",
    ")\n",
    "\n",
    "indices_J2_mF2 = (\n",
    "    indices_J2[0]\n",
    "    + np.where(\n",
    "        [\n",
    "            qn.largest.mF == 2 and qn.largest.F == 3\n",
    "            for qn in [\n",
    "                qn.remove_small_components().transform_to_coupled()\n",
    "                for qn in np.array(QN_states)[indices_J2]\n",
    "            ]\n",
    "        ]\n",
    "    )[0]\n",
    ")\n",
    "\n",
    "indices_J2_mF3 = (\n",
    "    indices_J2[0]\n",
    "    + np.where(\n",
    "        [\n",
    "            qn.largest.mF == 3\n",
    "            for qn in [\n",
    "                qn.remove_small_components().transform_to_coupled()\n",
    "                for qn in np.array(QN_states)[indices_J2]\n",
    "            ]\n",
    "        ]\n",
    "    )[0]\n",
    ")\n"
   ]
  },
  {
   "cell_type": "code",
   "execution_count": 6,
   "id": "1d9c1a71",
   "metadata": {},
   "outputs": [],
   "source": [
    "# convert to V/m\n",
    "Ez_Vm = Ez * 100\n",
    "\n",
    "# grab energy of J=2, mF=0, 2 & 3\n",
    "# mF=-1,0,1 have more or less the same energy levels, just slight differences at higher\n",
    "# fields\n",
    "energy = es.real[:, indices_J2_mF0[0]] * constants.hbar\n",
    "fit_coeff_mF0 = fit_stark_potential(Ez_Vm, energy, deg=11)\n",
    "\n",
    "energy = es.real[:, indices_J2_mF2[0]] * constants.hbar\n",
    "fit_coeff_mF2 = fit_stark_potential(Ez_Vm, energy, deg=11)\n",
    "\n",
    "energy = es.real[:, indices_J2_mF3[0]] * constants.hbar\n",
    "fit_coeff_mF3 = fit_stark_potential(Ez_Vm, energy, deg=11)\n"
   ]
  },
  {
   "cell_type": "markdown",
   "id": "72a31bdd",
   "metadata": {},
   "source": [
    "## Beamline Setup"
   ]
  },
  {
   "cell_type": "code",
   "execution_count": 7,
   "id": "15f6007c",
   "metadata": {},
   "outputs": [],
   "source": [
    "options = PropagationOptions(verbose=False, n_cores=8)\n",
    "particle = TlF()\n",
    "gravity = Gravity(0, -9.81 * particle.mass, 0)\n",
    "\n",
    "# EQL parameters\n",
    "L = 0.6\n",
    "R = 1.75 * 25.4e-3 / 2\n",
    "V = 28_000\n",
    "\n",
    "\n",
    "# DET parameters current aperture\n",
    "wx = 13e-3\n",
    "wy = 3e-3\n",
    "\n",
    "# conversion factors\n",
    "in_to_m = 25.4e-3\n",
    "\n",
    "n_nipples = 3\n",
    "\n",
    "# beamline lengths\n",
    "distance_lens_bbexit = 36 * in_to_m\n",
    "lens_chamber_length = (24 + 5 / 8) * in_to_m\n",
    "lens_reducer_flange = (7 / 8 + 3 + 1 / 8) * in_to_m\n",
    "lens_electrode_length = 0.6  # m\n",
    "nipple_length = 39 * in_to_m\n",
    "distance_det_center = 5.25 * in_to_m\n",
    "lens_reducer_flange = (3 + 1 / 8 + 7 / 8) * in_to_m\n",
    "bs_flange = 3 / 4 * in_to_m\n",
    "rc_chamber_length_no_flanges = 10.5 * in_to_m\n",
    "rc_chamber_center_from_bs_front = (16 + 3 / 8) * in_to_m\n",
    "rc_aperture_from_center = 3.56 * in_to_m\n",
    "rc_aperture_radius = 0.011\n",
    "\n",
    "\n",
    "# acme freezing distribution modified to our cell opening size (0.25\" vs 5 mm for ACME)\n",
    "sigma_x = 0.25 * 25.4 / 5 * 3.8e-3  # Sigma for the gaussian position distribution\n",
    "sigma_y = 0.25 * 25.4 / 5 * 3.8e-3  # Sigma for the gaussian position distribution\n"
   ]
  },
  {
   "cell_type": "markdown",
   "id": "ff162190",
   "metadata": {},
   "source": [
    "## Beamline Sections\n",
    "\n",
    "| What | Length |\n",
    "| --- | --- |  \n",
    "| bs flange | 3/4\" |\n",
    "| center of the RC chamber to the beamsource front | 16-3/8\" |\n",
    "| center of the SPA chamber to the beamsource front | 28-3/8\" |\n",
    "| front of the EQL chamber to the beamsource front | 36\" |\n",
    "| lens chamber length | 24-5/8\" |\n",
    "| lens electrode length | 0.6 m |\n",
    "| lens flange with o-ring | 7/8\" |\n",
    "| lens reducer | 3-1/8\" |\n",
    "| center of DET to start chamber | 5-1/4\" |\n",
    "| long nipple length | 39\" |\n",
    "| rc chamber length without flanges | 10.5\" |\n",
    "| rc chamber front without flanges to front bs flange | 10-3/8\" |\n",
    "| rc aperture from center rc | 3.56\" | \n",
    "| rc aperture radius | 0.011 m |"
   ]
  },
  {
   "cell_type": "code",
   "execution_count": 8,
   "id": "743a8e29",
   "metadata": {},
   "outputs": [],
   "source": [
    "fourK = Section(\n",
    "    name=\"4K shield\",\n",
    "    objects=[CircularAperture(0, 0, 1.75 * in_to_m, in_to_m / 2)],\n",
    "    start=0,\n",
    "    stop=(1.75 + 0.25) * 0.0254,\n",
    "    save_collisions=False,\n",
    "    propagation_type=PropagationType.ballistic,\n",
    ")\n",
    "fourtyK = Section(\n",
    "    name=\"40K shield\",\n",
    "    objects=[CircularAperture(0, 0, fourK.stop + 1.25 * in_to_m, in_to_m / 2)],\n",
    "    start=fourK.stop,\n",
    "    stop=fourK.stop + (1.25 + 0.25) * 0.0254,\n",
    "    save_collisions=False,\n",
    "    propagation_type=PropagationType.ballistic,\n",
    ")\n",
    "bbexit = Section(\n",
    "    name=\"Beamsource Exit\",\n",
    "    objects=[CircularAperture(0, 0, fourtyK.stop + 2.5 * in_to_m, 2 * in_to_m)],\n",
    "    start=fourtyK.stop,\n",
    "    stop=fourtyK.stop + (2.5 + 0.75) * in_to_m,\n",
    "    save_collisions=False,\n",
    "    propagation_type=PropagationType.ballistic,\n",
    ")\n",
    "\n",
    "rc = Section(\n",
    "    name=\"Rotational cooling\",\n",
    "    objects=[\n",
    "        CircularAperture(\n",
    "            x=0,\n",
    "            y=0,\n",
    "            z=bbexit.stop + rc_chamber_center_from_bs_front + rc_aperture_from_center,\n",
    "            r=rc_aperture_radius,\n",
    "        )\n",
    "    ],\n",
    "    start=bbexit.stop\n",
    "    + bs_flange\n",
    "    + rc_chamber_center_from_bs_front\n",
    "    - rc_chamber_length_no_flanges / 2,\n",
    "    stop=bbexit.stop\n",
    "    + rc_chamber_center_from_bs_front\n",
    "    + rc_chamber_length_no_flanges / 2,\n",
    "    save_collisions=False,\n",
    "    propagation_type=PropagationType.ballistic,\n",
    ")\n",
    "\n",
    "spa = Section(\n",
    "    name=\"State Prep A\",\n",
    "    objects=[],\n",
    "    start=bbexit.stop,\n",
    "    stop=bbexit.stop + (19.6 + 0.375 + 9.625 + 0.375) * in_to_m,\n",
    "    save_collisions=False,\n",
    "    propagation_type=PropagationType.ballistic,\n",
    ")\n",
    "eql = ElectrostaticQuadrupoleLens(\n",
    "    name=\"Electrostatic Lens\",\n",
    "    objects=[\n",
    "        Bore(\n",
    "            x=0,\n",
    "            y=0,\n",
    "            z=bbexit.stop\n",
    "            + distance_lens_bbexit\n",
    "            + (lens_chamber_length - lens_electrode_length) / 2,\n",
    "            length=lens_electrode_length,\n",
    "            radius=R,\n",
    "        )\n",
    "    ],\n",
    "    start=bbexit.stop\n",
    "    + distance_lens_bbexit\n",
    "    + (lens_chamber_length - lens_electrode_length) / 2,\n",
    "    stop=bbexit.stop\n",
    "    + distance_lens_bbexit\n",
    "    + lens_chamber_length\n",
    "    - (lens_chamber_length - lens_electrode_length) / 2,\n",
    "    V=V,\n",
    "    R=R,\n",
    "    save_collisions=True,\n",
    ")\n",
    "det = Section(\n",
    "    name=\"Detection\",\n",
    "    objects=[\n",
    "        RectangularAperture(\n",
    "            0,\n",
    "            0,\n",
    "            eql.stop\n",
    "            + lens_reducer_flange\n",
    "            + n_nipples * nipple_length\n",
    "            + +10.5 * in_to_m\n",
    "            + distance_det_center\n",
    "            + 0.001,\n",
    "            wx,\n",
    "            wy,\n",
    "        )\n",
    "    ],\n",
    "    start=eql.stop\n",
    "    + lens_reducer_flange\n",
    "    + n_nipples * nipple_length\n",
    "    + 10.5 * in_to_m\n",
    "    + distance_det_center,\n",
    "    stop=eql.stop\n",
    "    + lens_reducer_flange\n",
    "    + n_nipples * nipple_length\n",
    "    + 10.5 * in_to_m\n",
    "    + distance_det_center\n",
    "    + 1e-2,\n",
    "    save_collisions=False,\n",
    "    propagation_type=PropagationType.ballistic,\n",
    "    force=None,\n",
    ")\n"
   ]
  },
  {
   "cell_type": "code",
   "execution_count": 9,
   "id": "2e316d93",
   "metadata": {},
   "outputs": [],
   "source": [
    "def lens_scan_function(\n",
    "    origin: Coordinates,\n",
    "    velocities: Velocities,\n",
    "    voltage: float,\n",
    "    detection_laser_distance: float,\n",
    "    detection_aperture_distance: float,\n",
    "    length: float = 0.6,\n",
    "    radius: float = 0.022225,\n",
    "    stark_potential: npt.NDArray[np.float64] = fit_coeff_mF0,\n",
    "):\n",
    "    eql = ElectrostaticQuadrupoleLens(\n",
    "        name=\"Electrostatic Lens\",\n",
    "        objects=[\n",
    "            Bore(\n",
    "                x=0,\n",
    "                y=0,\n",
    "                z=bbexit.stop\n",
    "                + distance_lens_bbexit\n",
    "                + (lens_chamber_length - lens_electrode_length) / 2,\n",
    "                length=lens_electrode_length,\n",
    "                radius=radius,\n",
    "            )\n",
    "        ],\n",
    "        start=bbexit.stop\n",
    "        + distance_lens_bbexit\n",
    "        + (lens_chamber_length - lens_electrode_length) / 2,\n",
    "        stop=bbexit.stop\n",
    "        + distance_lens_bbexit\n",
    "        + (lens_chamber_length - lens_electrode_length) / 2\n",
    "        + length,\n",
    "        V=voltage,\n",
    "        R=radius,\n",
    "        save_collisions=False,\n",
    "        stark_potential=stark_potential,\n",
    "    )\n",
    "    det = Section(\n",
    "        name=\"Detection\",\n",
    "        objects=[\n",
    "            RectangularAperture(\n",
    "                0,\n",
    "                0,\n",
    "                eql.stop + detection_aperture_distance,\n",
    "                wx,\n",
    "                wy,\n",
    "            )\n",
    "        ],\n",
    "        start=eql.stop + detection_aperture_distance - 1e-3,\n",
    "        stop=eql.stop + detection_laser_distance,\n",
    "        save_collisions=False,\n",
    "        propagation_type=PropagationType.ballistic,\n",
    "        force=None,\n",
    "    )\n",
    "\n",
    "    sections = [fourK, fourtyK, bbexit, rc, spa, eql, det]\n",
    "    section_data, trajectories = propagate_trajectories(\n",
    "        sections,\n",
    "        origin,\n",
    "        velocities,\n",
    "        particle,\n",
    "        force=gravity,\n",
    "        options=options,\n",
    "    )\n",
    "    return section_data, trajectories, sections\n"
   ]
  },
  {
   "cell_type": "markdown",
   "id": "c2090d98",
   "metadata": {},
   "source": [
    "## Initialize distribution"
   ]
  },
  {
   "cell_type": "code",
   "execution_count": 13,
   "id": "cb4412c7",
   "metadata": {},
   "outputs": [],
   "source": [
    "n_trajectories = 20_000_000\n",
    "\n",
    "theta = 2 * np.pi * np.random.rand(n_trajectories)\n",
    "origin = Coordinates(\n",
    "    x=np.cos(theta) * sigma_x * np.sqrt(np.random.rand(n_trajectories)),\n",
    "    y=np.sin(theta) * sigma_y * np.sqrt(np.random.rand(n_trajectories)),\n",
    "    z=np.zeros(n_trajectories),\n",
    ")\n",
    "velocities = Velocities(\n",
    "    vx=np.random.randn(n_trajectories) * 39.4,\n",
    "    vy=np.random.randn(n_trajectories) * 39.4,\n",
    "    vz=np.random.randn(n_trajectories) * 16 + 184,\n",
    ")\n"
   ]
  },
  {
   "cell_type": "markdown",
   "id": "21452071",
   "metadata": {},
   "source": [
    "# Scan"
   ]
  },
  {
   "cell_type": "code",
   "execution_count": 17,
   "id": "0b41bff6",
   "metadata": {},
   "outputs": [
    {
     "data": {
      "application/vnd.jupyter.widget-view+json": {
       "model_id": "2a461b6521c04641840c6d072b16cde2",
       "version_major": 2,
       "version_minor": 0
      },
      "text/plain": [
       "Output()"
      ]
     },
     "metadata": {},
     "output_type": "display_data"
    },
    {
     "data": {
      "text/html": [
       "<pre style=\"white-space:pre;overflow-x:auto;line-height:normal;font-family:Menlo,'DejaVu Sans Mono',consolas,'Courier New',monospace\"></pre>\n"
      ],
      "text/plain": []
     },
     "metadata": {},
     "output_type": "display_data"
    },
    {
     "data": {
      "text/html": [
       "<pre style=\"white-space:pre;overflow-x:auto;line-height:normal;font-family:Menlo,'DejaVu Sans Mono',consolas,'Courier New',monospace\">\n",
       "</pre>\n"
      ],
      "text/plain": [
       "\n"
      ]
     },
     "metadata": {},
     "output_type": "display_data"
    }
   ],
   "source": [
    "voltages = (\n",
    "    np.array(\n",
    "        [0.0, 10.0, 15.0, 20.0, 21.25, 22.5, 23.75, 25.0, 26.25, 27.5, 28.75, 30.0]\n",
    "    )\n",
    "    * 1e3\n",
    ")\n",
    "\n",
    "data = dict({\"mF=0\": [], \"mF=2\": [], \"mF=3\": []})\n",
    "\n",
    "with progress.Progress() as pb:\n",
    "    t2 = pb.add_task(\"mF\", total=3)\n",
    "    t3 = pb.add_task(\"voltage\", total=len(voltages))\n",
    "    for idx, (mf, start_coeff) in enumerate(\n",
    "        zip([\"mF=0\", \"mF=2\", \"mF=3\"], [fit_coeff_mF0, fit_coeff_mF2, fit_coeff_mF3])\n",
    "    ):\n",
    "        for idy, voltage in enumerate(voltages):\n",
    "            data[mf].append(\n",
    "                lens_scan_function(\n",
    "                    origin,\n",
    "                    velocities,\n",
    "                    voltage,\n",
    "                    detection_laser_distance=lens_reducer_flange\n",
    "                    + n_nipples * nipple_length\n",
    "                    + 10.5 * in_to_m\n",
    "                    + distance_det_center,\n",
    "                    detection_aperture_distance=lens_reducer_flange\n",
    "                    + n_nipples * nipple_length\n",
    "                    + distance_det_center\n",
    "                    + 10.5 * in_to_m\n",
    "                    - 1 * in_to_m,\n",
    "                    stark_potential=start_coeff,\n",
    "                )\n",
    "            )\n",
    "            pb.update(task_id=t3, completed=idy + 1, refresh=True)\n",
    "        pb.update(task_id=t2, completed=idx + 1, refresh=True)\n",
    "pb.refresh()\n"
   ]
  },
  {
   "cell_type": "code",
   "execution_count": 18,
   "id": "bc05bd0b",
   "metadata": {},
   "outputs": [],
   "source": [
    "with open(\"lens_scan_uniform_freezing_data_2025_4_29.pickle\", \"wb\") as f:\n",
    "    pickle.dump(data, f)\n"
   ]
  },
  {
   "cell_type": "markdown",
   "id": "b14f6dd5",
   "metadata": {},
   "source": [
    "# Visualize\n",
    "## mF=0 only"
   ]
  },
  {
   "cell_type": "code",
   "execution_count": 22,
   "id": "34241251",
   "metadata": {},
   "outputs": [],
   "source": [
    "nr_survived = np.array([len(d[1]) for d in data[\"mF=0\"]])\n",
    "nr_survived_error = np.sqrt(nr_survived)\n",
    "gains = nr_survived / nr_survived[0]\n",
    "gains_error = gains * np.sqrt(1 / nr_survived + 1 / nr_survived[0])\n"
   ]
  },
  {
   "cell_type": "code",
   "execution_count": 23,
   "id": "1864cda5",
   "metadata": {},
   "outputs": [
    {
     "name": "stderr",
     "output_type": "stream",
     "text": [
      "C:\\Users\\Olivier\\AppData\\Local\\Temp\\ipykernel_41064\\832994825.py:14: UserWarning: No artists with labels found to put in legend.  Note that artists whose label start with an underscore are ignored when legend() is called with no argument.\n",
      "  ax.legend()\n"
     ]
    },
    {
     "data": {
      "image/png": "[encoded data removed]",
      "text/plain": [
       "<Figure size 640x480 with 1 Axes>"
      ]
     },
     "metadata": {},
     "output_type": "display_data"
    }
   ],
   "source": [
    "fig, ax = plt.subplots()\n",
    "(l,) = ax.plot(voltages / 1e3, gains, lw=2)\n",
    "ax.fill_between(\n",
    "    voltages / 1e3,\n",
    "    gains - 2 * gains_error,\n",
    "    gains + 2 * gains_error,\n",
    "    alpha=0.2,\n",
    "    edgecolor=l.get_color(),\n",
    "    facecolor=l.get_color(),\n",
    ")\n",
    "\n",
    "ax.set_xlabel(\"V [kV]\")\n",
    "ax.set_ylabel(\"gain\")\n",
    "ax.legend()\n",
    "ax.grid()"
   ]
  },
  {
   "cell_type": "markdown",
   "id": "91e7aa09",
   "metadata": {},
   "source": [
    "## Include residual population"
   ]
  },
  {
   "cell_type": "code",
   "execution_count": 27,
   "id": "4e07a5ae",
   "metadata": {},
   "outputs": [],
   "source": [
    "nr_survived = np.array([[len(d[1]) for d in data[key_mF]] for key_mF in data.keys()])\n"
   ]
  },
  {
   "cell_type": "code",
   "execution_count": 40,
   "id": "1c2927e6",
   "metadata": {},
   "outputs": [],
   "source": [
    "dep_efficiency = 0.8\n",
    "w = np.array(\n",
    "    [3 + 4 * dep_efficiency, 2 * (1 - dep_efficiency), 2 * (1 - dep_efficiency)]\n",
    ")\n",
    "# 1) weighted sum along axis=0 → shape (M,)\n",
    "nr_survived_weighted = np.sum(w[:, None] * nr_survived, axis=0)\n",
    "\n",
    "# 2) propagated error\n",
    "#    variance = sum_i (w_i^2 * A[i,j])\n",
    "var_S = np.sum((w[:, None] ** 2) * nr_survived, axis=0)\n",
    "nr_survived_weighted_error = np.sqrt(var_S)\n",
    "\n",
    "# 1) grab the baseline (first element) and its error\n",
    "baseline = nr_survived_weighted[0]  # scalar\n",
    "baseline_error = nr_survived_weighted_error[0]  # scalar\n",
    "\n",
    "# 2) compute gain and its 1σ error\n",
    "gains = nr_survived_weighted / baseline  # shape (M,)\n",
    "\n",
    "gains_error = gains * np.sqrt(\n",
    "    (nr_survived_weighted_error / nr_survived_weighted) ** 2\n",
    "    + (baseline_error / baseline) ** 2\n",
    ")"
   ]
  },
  {
   "cell_type": "code",
   "execution_count": 41,
   "id": "c7fc9951",
   "metadata": {},
   "outputs": [
    {
     "data": {
      "image/png": "[encoded data removed]",
      "text/plain": [
       "<Figure size 640x480 with 1 Axes>"
      ]
     },
     "metadata": {},
     "output_type": "display_data"
    }
   ],
   "source": [
    "fig, ax = plt.subplots()\n",
    "(l,) = ax.plot(voltages / 1e3, gains, lw=2)\n",
    "ax.fill_between(\n",
    "    voltages / 1e3,\n",
    "    gains - 2 * gains_error,\n",
    "    gains + 2 * gains_error,\n",
    "    alpha=0.2,\n",
    "    edgecolor=l.get_color(),\n",
    "    facecolor=l.get_color(),\n",
    ")\n",
    "\n",
    "ax.set_xlabel(\"V [kV]\")\n",
    "ax.set_ylabel(\"gain\")\n",
    "ax.grid()\n"
   ]
  },
  {
   "cell_type": "code",
   "execution_count": null,
   "id": "c21c2f18",
   "metadata": {},
   "outputs": [],
   "source": []
  }
 ],
 "metadata": {
  "kernelspec": {
   "display_name": "centrex-eql-testing",
   "language": "python",
   "name": "python3"
  },
  "language_info": {
   "codemirror_mode": {
    "name": "ipython",
    "version": 3
   },
   "file_extension": ".py",
   "mimetype": "text/x-python",
   "name": "python",
   "nbconvert_exporter": "python",
   "pygments_lexer": "ipython3",
   "version": "3.11.9"
  }
 },
 "nbformat": 4,
 "nbformat_minor": 5
}
